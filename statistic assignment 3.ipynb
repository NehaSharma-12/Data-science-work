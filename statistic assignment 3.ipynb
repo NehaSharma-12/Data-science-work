{
 "cells": [
  {
   "cell_type": "markdown",
   "id": "da5a97bf",
   "metadata": {},
   "source": [
    "# Ans1."
   ]
  },
  {
   "cell_type": "markdown",
   "id": "2a83a8f7",
   "metadata": {},
   "source": [
    "# The Probability Density Function (PDF) describes how the probability of a continuous random variable is distributed over its possible values. It shows the relative likelihood for the variable to take on a specific value. The area under the PDF curve over a given interval represents the probability that the variable falls within that interval, and the total area under the curve equals 1.\n",
    "\n",
    "\n",
    "\n",
    "\n",
    "\n",
    "\n",
    "\n"
   ]
  },
  {
   "cell_type": "markdown",
   "id": "a9a5b32e",
   "metadata": {},
   "source": [
    "# Ans2."
   ]
  },
  {
   "cell_type": "markdown",
   "id": "a0967a12",
   "metadata": {},
   "source": [
    "# There are two main types of probability distributions:\n",
    "\n",
    "# Discrete Probability Distributions: These deal with discrete random variables, which take on a countable number of distinct values. Examples include:\n",
    "\n",
    "# Binomial Distribution: Models the number of successes in a fixed number of independent Bernoulli trials.\n",
    "# Poisson Distribution: Models the number of events occurring within a fixed interval of time or space.\n",
    "# Continuous Probability Distributions: These deal with continuous random variables, which can take on any value within a given range. Examples include:\n",
    "\n",
    "# Normal Distribution: Also known as the Gaussian distribution, it's symmetric and bell-shaped, defined by its mean and standard deviation.\n",
    "# Exponential Distribution: Models the time between events in a Poisson process, where events occur continuously and independently at a constant average rate."
   ]
  },
  {
   "cell_type": "markdown",
   "id": "e9603abc",
   "metadata": {},
   "source": [
    "# Ans3."
   ]
  },
  {
   "cell_type": "code",
   "execution_count": 1,
   "id": "c219e65f",
   "metadata": {},
   "outputs": [
    {
     "name": "stdout",
     "output_type": "stream",
     "text": [
      "The PDF of the normal distribution at x = 0 is 0.39894\n"
     ]
    }
   ],
   "source": [
    "import math\n",
    "\n",
    "def normal_pdf(x, mean, std_dev):\n",
    "    \"\"\"\n",
    "    Calculate the probability density function of a normal distribution.\n",
    "    \n",
    "    Parameters:\n",
    "    x (float): The point at which to evaluate the PDF.\n",
    "    mean (float): The mean of the normal distribution.\n",
    "    std_dev (float): The standard deviation of the normal distribution.\n",
    "    \n",
    "    Returns:\n",
    "    float: The value of the PDF at point x.\n",
    "    \"\"\"\n",
    "    exponent = math.exp(-0.5 * ((x - mean) / std_dev) ** 2)\n",
    "    return (1 / (std_dev * math.sqrt(2 * math.pi))) * exponent\n",
    "\n",
    "# Example usage\n",
    "x_value = 0\n",
    "mean_value = 0\n",
    "std_dev_value = 1\n",
    "pdf_value = normal_pdf(x_value, mean_value, std_dev_value)\n",
    "print(f\"The PDF of the normal distribution at x = {x_value} is {pdf_value:.5f}\")\n"
   ]
  },
  {
   "cell_type": "markdown",
   "id": "6abbef74",
   "metadata": {},
   "source": [
    "# Ans.4"
   ]
  },
  {
   "cell_type": "markdown",
   "id": "39f3f9dc",
   "metadata": {},
   "source": [
    "# Properties of Binomial Distribution:\n",
    "# Fixed Number of Trials: The experiment consists of a fixed number of trials, denoted by \n",
    "# 𝑛\n",
    "# n.\n",
    "# Two Possible Outcomes: Each trial has only two possible outcomes: success (with probability \n",
    "# 𝑝\n",
    "# p) and failure (with probability \n",
    "# 1\n",
    "# −\n",
    "# 𝑝\n",
    "# 1−p).\n",
    "# Independent Trials: The outcome of each trial is independent of the others.\n",
    "# Constant Probability: The probability of success \n",
    "# 𝑝\n",
    "# p remains the same for each trial.\n",
    "# Discrete Distribution: The random variable \n",
    "# 𝑋\n",
    "# X representing the number of successes is a discrete variable, taking values from 0 to \n",
    "# 𝑛\n",
    "# n.\n",
    "# Examples of Events Where Binomial Distribution Can Be Applied:\n",
    "# Flipping a Coin: If you flip a fair coin 10 times, the number of heads (successes) out of the 10 flips can be modeled using a binomial distribution with \n",
    "# 𝑛\n",
    "# =\n",
    "# 10\n",
    "# n=10 and \n",
    "# 𝑝\n",
    "# =\n",
    "# 0.5\n",
    "# p=0.5.\n",
    "# Quality Control in Manufacturing: In a factory, if a machine produces items and there is a 5% chance that any given item is defective, the number of defective items in a sample of 20 items can be modeled by a binomial distribution with \n",
    "# 𝑛\n",
    "# =\n",
    "# 20\n",
    "# n=20 and \n",
    "# 𝑝\n",
    "# =\n",
    "# 0.05\n",
    "# p=0.05."
   ]
  },
  {
   "cell_type": "markdown",
   "id": "832d6b0b",
   "metadata": {},
   "source": [
    "# Ans5"
   ]
  },
  {
   "cell_type": "code",
   "execution_count": 2,
   "id": "41e1e8e8",
   "metadata": {},
   "outputs": [
    {
     "data": {
      "image/png": "[encoded data removed]",
      "text/plain": [
       "<Figure size 1000x600 with 1 Axes>"
      ]
     },
     "metadata": {},
     "output_type": "display_data"
    }
   ],
   "source": [
    "import numpy as np\n",
    "import matplotlib.pyplot as plt\n",
    "\n",
    "# Parameters for the binomial distribution\n",
    "n = 10      # Number of trials\n",
    "p = 0.4     # Probability of success on each trial\n",
    "sample_size = 1000  # Size of the random sample\n",
    "\n",
    "# Generate the random sample\n",
    "random_sample = np.random.binomial(n, p, sample_size)\n",
    "\n",
    "# Plot a histogram of the results\n",
    "plt.figure(figsize=(10, 6))\n",
    "plt.hist(random_sample, bins=range(n+2), color='skyblue', edgecolor='black', alpha=0.7)\n",
    "plt.title('Histogram of Binomial Distribution (n=10, p=0.4)')\n",
    "plt.xlabel('Number of Successes')\n",
    "plt.ylabel('Frequency')\n",
    "plt.xticks(range(n+1))\n",
    "plt.grid(True)\n",
    "plt.show()\n"
   ]
  },
  {
   "cell_type": "markdown",
   "id": "c39ed867",
   "metadata": {},
   "source": [
    "# Ans6"
   ]
  },
  {
   "cell_type": "code",
   "execution_count": 3,
   "id": "80433514",
   "metadata": {},
   "outputs": [
    {
     "name": "stdout",
     "output_type": "stream",
     "text": [
      "The CDF of the Poisson distribution at k = 5 with mean = 3.0 is 0.91608\n"
     ]
    }
   ],
   "source": [
    "import math\n",
    "\n",
    "def poisson_cdf(k, mean):\n",
    "    \"\"\"\n",
    "    Calculate the cumulative distribution function (CDF) of a Poisson distribution.\n",
    "\n",
    "    Parameters:\n",
    "    k (int): The point at which to evaluate the CDF (must be a non-negative integer).\n",
    "    mean (float): The mean (λ) of the Poisson distribution.\n",
    "\n",
    "    Returns:\n",
    "    float: The value of the CDF at point k.\n",
    "    \"\"\"\n",
    "    cdf_value = 0.0\n",
    "    for i in range(0, k + 1):\n",
    "        cdf_value += (mean ** i) * math.exp(-mean) / math.factorial(i)\n",
    "    return cdf_value\n",
    "\n",
    "# Example usage\n",
    "k_value = 5\n",
    "mean_value = 3.0\n",
    "cdf_value = poisson_cdf(k_value, mean_value)\n",
    "print(f\"The CDF of the Poisson distribution at k = {k_value} with mean = {mean_value} is {cdf_value:.5f}\")\n"
   ]
  },
  {
   "cell_type": "markdown",
   "id": "ed1f2f2c",
   "metadata": {},
   "source": [
    "# Ans7"
   ]
  },
  {
   "cell_type": "markdown",
   "id": "27b2dd10",
   "metadata": {},
   "source": [
    "# Binomial Distribution: It is used when there are a fixed number of independent trials, each with two possible outcomes: success or failure. The number of successes is the variable of interest.\n",
    "# Poisson Distribution: It is used to model the number of events occurring within a fixed interval of time or space, where the events occur independently and the average rate (mean) of occurrence is constant. The number of events is the variable of interest."
   ]
  },
  {
   "cell_type": "markdown",
   "id": "ecc628ea",
   "metadata": {},
   "source": [
    "# Ans8"
   ]
  },
  {
   "cell_type": "code",
   "execution_count": 4,
   "id": "6642ebf9",
   "metadata": {},
   "outputs": [
    {
     "name": "stdout",
     "output_type": "stream",
     "text": [
      "Sample Mean: 5.04\n",
      "Sample Variance: 5.39\n"
     ]
    }
   ],
   "source": [
    "import numpy as np\n",
    "\n",
    "# Parameters for the Poisson distribution\n",
    "mean = 5\n",
    "sample_size = 1000\n",
    "\n",
    "# Generate the random sample\n",
    "random_sample = np.random.poisson(mean, sample_size)\n",
    "\n",
    "# Calculate the sample mean and variance\n",
    "sample_mean = np.mean(random_sample)\n",
    "sample_variance = np.var(random_sample)\n",
    "\n",
    "# Display the results\n",
    "print(f\"Sample Mean: {sample_mean:.2f}\")\n",
    "print(f\"Sample Variance: {sample_variance:.2f}\")\n"
   ]
  },
  {
   "cell_type": "code",
   "execution_count": null,
   "id": "dd6c4212",
   "metadata": {},
   "outputs": [],
   "source": []
  }
 ],
 "metadata": {
  "kernelspec": {
   "display_name": "Python 3 (ipykernel)",
   "language": "python",
   "name": "python3"
  },
  "language_info": {
   "codemirror_mode": {
    "name": "ipython",
    "version": 3
   },
   "file_extension": ".py",
   "mimetype": "text/x-python",
   "name": "python",
   "nbconvert_exporter": "python",
   "pygments_lexer": "ipython3",
   "version": "3.11.7"
  }
 },
 "nbformat": 4,
 "nbformat_minor": 5
}
