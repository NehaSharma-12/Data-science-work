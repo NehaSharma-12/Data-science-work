{
 "cells": [
  {
   "cell_type": "markdown",
   "id": "ddee3ac6",
   "metadata": {},
   "source": [
    "# Ans1"
   ]
  },
  {
   "cell_type": "markdown",
   "id": "cf4cfa49",
   "metadata": {},
   "source": [
    "# Mean,Mode,Median"
   ]
  },
  {
   "cell_type": "markdown",
   "id": "ac456666",
   "metadata": {},
   "source": [
    "# Ans2"
   ]
  },
  {
   "cell_type": "markdown",
   "id": "130df198",
   "metadata": {},
   "source": [
    "# The mean, median, and mode are three different measures of central tendency that describe the center of a dataset. Each provides unique insights into the distribution of data.\n",
    "\n",
    "# Differences Between Mean, Median, and Mode:\n",
    "# Mean:\n",
    "\n",
    "# Definition: The mean is the arithmetic average of a dataset. It is calculated by summing all the values and dividing by the number of values.\n",
    "# Sensitivity to Outliers: The mean is sensitive to extreme values (outliers). A single large or small value can significantly affect the mean.\n",
    "# Use: The mean is most useful when the data is symmetrically distributed without outliers. It is commonly used in situations where all data points are equally important, such as calculating the average score or income.\n",
    "# Formula:\n",
    "\n",
    "# Mean\n",
    "# =\n",
    "# ∑\n",
    "# 𝑋\n",
    "# 𝑁\n",
    "# Mean= \n",
    "# N\n",
    "# ∑X\n",
    "# ​\n",
    " \n",
    "# where \n",
    "# ∑\n",
    "# 𝑋\n",
    "# ∑X is the sum of all values and \n",
    "# 𝑁\n",
    "# N is the number of values.\n",
    "\n",
    "# Median:\n",
    "\n",
    "# Definition: The median is the middle value in a dataset when the numbers are arranged in order. If the dataset has an even number of values, the median is the average of the two middle numbers.\n",
    "# Sensitivity to Outliers: The median is not affected by outliers. It provides a better measure of central tendency when the data is skewed or contains outliers.\n",
    "# Use: The median is particularly useful for skewed distributions, such as income distribution, where a few extreme values could distort the mean.\n",
    "# Calculation:\n",
    "\n",
    "# For an odd number of values: the median is the middle value.\n",
    "# For an even number of values: the median is the average of the two middle values.\n",
    "# Mode:\n",
    "\n",
    "# Definition: The mode is the value that occurs most frequently in a dataset. A dataset may have one mode, more than one mode (bimodal, multimodal), or no mode at all if no value repeats.\n",
    "# Sensitivity to Outliers: The mode is not influenced by outliers, but it may not always be useful for describing central tendency in all datasets, especially if the most frequent value is not representative of the data.\n",
    "# Use: The mode is useful in categorical data or for finding the most common value in a dataset. For example, it can indicate the most common shoe size or preferred product.\n",
    "# How They Measure Central Tendency:\n",
    "# Mean: Provides the overall average of the dataset, representing the central value if all data points were spread evenly.\n",
    "# Median: Represents the midpoint of the dataset, showing the central value that divides the data into two equal halves.\n",
    "# Mode: Indicates the most frequent value, representing the most common observation in the dataset.\n",
    "# Example:\n",
    "# Consider the dataset: [1, 2, 2, 3, 4, 5, 100]\n",
    "\n",
    "# Mean: (1 + 2 + 2 + 3 + 4 + 5 + 100) / 7 = 16.71 (skewed by the outlier 100)\n",
    "# Median: 3 (the middle value when sorted)\n",
    "# Mode: 2 (the most frequent value)"
   ]
  },
  {
   "cell_type": "markdown",
   "id": "8cf26df1",
   "metadata": {},
   "source": [
    "# Ans3"
   ]
  },
  {
   "cell_type": "code",
   "execution_count": 5,
   "id": "f1dc321c",
   "metadata": {},
   "outputs": [
    {
     "data": {
      "text/plain": [
       "177.01875"
      ]
     },
     "execution_count": 5,
     "metadata": {},
     "output_type": "execute_result"
    }
   ],
   "source": [
    "#Measure the three measures of central tendency for the given height data:\n",
    "a=[178,177,176,177,178.2,178,175,179,180,175,178.9,176.2,177,172.5,178,176.5]\n",
    "import numpy as np\n",
    "np.mean(a)\n",
    "\n"
   ]
  },
  {
   "cell_type": "code",
   "execution_count": 6,
   "id": "e001e84b",
   "metadata": {},
   "outputs": [
    {
     "data": {
      "text/plain": [
       "177.0"
      ]
     },
     "execution_count": 6,
     "metadata": {},
     "output_type": "execute_result"
    }
   ],
   "source": [
    "np.median(a)"
   ]
  },
  {
   "cell_type": "code",
   "execution_count": 7,
   "id": "06b192c6",
   "metadata": {},
   "outputs": [
    {
     "data": {
      "text/plain": [
       "177.01875"
      ]
     },
     "execution_count": 7,
     "metadata": {},
     "output_type": "execute_result"
    }
   ],
   "source": [
    "np.mean(a)"
   ]
  },
  {
   "cell_type": "code",
   "execution_count": 8,
   "id": "aeb36333",
   "metadata": {},
   "outputs": [
    {
     "data": {
      "text/plain": [
       "ModeResult(mode=177.0, count=3)"
      ]
     },
     "execution_count": 8,
     "metadata": {},
     "output_type": "execute_result"
    }
   ],
   "source": [
    "from scipy import stats\n",
    "stats.mode(a)"
   ]
  },
  {
   "cell_type": "markdown",
   "id": "1424005b",
   "metadata": {},
   "source": [
    "# Ans4"
   ]
  },
  {
   "cell_type": "code",
   "execution_count": 9,
   "id": "daba2ef5",
   "metadata": {},
   "outputs": [
    {
     "data": {
      "text/plain": [
       "3.199023437500001"
      ]
     },
     "execution_count": 9,
     "metadata": {},
     "output_type": "execute_result"
    }
   ],
   "source": [
    "np.var(a)"
   ]
  },
  {
   "cell_type": "code",
   "execution_count": 10,
   "id": "09f7edb0",
   "metadata": {},
   "outputs": [
    {
     "data": {
      "text/plain": [
       "1.7885814036548633"
      ]
     },
     "execution_count": 10,
     "metadata": {},
     "output_type": "execute_result"
    }
   ],
   "source": [
    "np.std(a)"
   ]
  },
  {
   "cell_type": "markdown",
   "id": "0a7779de",
   "metadata": {},
   "source": [
    "# Ans5"
   ]
  },
  {
   "cell_type": "markdown",
   "id": "9947ca19",
   "metadata": {},
   "source": [
    "# Measures of dispersion, such as range, variance, and standard deviation, are used to describe the spread or variability within a dataset. While measures of central tendency (like mean, median, and mode) describe the center of the data, measures of dispersion provide insights into how much the data values deviate from the center.\n",
    "\n",
    "# 1. Range\n",
    "# Definition: The range is the simplest measure of dispersion and is calculated as the difference between the maximum and minimum values in the dataset.\n",
    "# Interpretation: The range gives a quick sense of the spread but does not account for the distribution of values between the extremes. It is highly sensitive to outliers.\n",
    "# Formula:\n",
    "\n",
    "# Range\n",
    "# =\n",
    "# Maximum Value\n",
    "# −\n",
    "# Minimum Value\n",
    "# Range=Maximum Value−Minimum Value\n",
    "# Example: For the dataset \n",
    "# [\n",
    "# 10\n",
    "# ,\n",
    "# 15\n",
    "# ,\n",
    "# 22\n",
    "# ,\n",
    "# 28\n",
    "# ,\n",
    "# 35\n",
    "# ]\n",
    "# [10,15,22,28,35]:\n",
    "\n",
    "# Range = \n",
    "# 35\n",
    "# −\n",
    "# 10\n",
    "# =\n",
    "# 25\n",
    "# 35−10=25\n",
    "# Interpretation: The data spans 25 units from the minimum to the maximum value.\n",
    "# 2. Variance\n",
    "# Definition: Variance measures the average squared deviation of each data point from the mean. It indicates how spread out the data points are around the mean.\n",
    "# Interpretation: A higher variance means more spread out data. Variance is useful for understanding variability but is expressed in squared units, making it less intuitive for interpretation.\n",
    "# Formula: For a sample:\n",
    "\n",
    "# Variance (s\n",
    "# 2\n",
    "# )\n",
    "# =\n",
    "# ∑\n",
    "# 𝑖\n",
    "# =\n",
    "# 1\n",
    "# 𝑁\n",
    "# (\n",
    "# 𝑥\n",
    "# 𝑖\n",
    "# −\n",
    "# 𝑥\n",
    "# ˉ\n",
    "# )\n",
    "# 2\n",
    "# 𝑁\n",
    "# −\n",
    "# 1\n",
    "# Variance (s \n",
    "# 2\n",
    "#  )= \n",
    "# N−1\n",
    "# ∑ \n",
    "# i=1\n",
    "# N\n",
    "# ​\n",
    "#  (x \n",
    "# i\n",
    "# ​\n",
    "#  − \n",
    "# x\n",
    "# ˉ\n",
    "#  ) \n",
    "# 2\n",
    " \n",
    "# ​\n",
    " \n",
    "# Where \n",
    "# 𝑥\n",
    "# 𝑖\n",
    "# x \n",
    "# i\n",
    "# ​\n",
    "#   is each data point, \n",
    "# 𝑥\n",
    "# ˉ\n",
    "# x\n",
    "# ˉ\n",
    "#   is the mean, and \n",
    "# 𝑁\n",
    "# N is the number of data points.\n",
    "\n",
    "# Example: For the dataset \n",
    "# [\n",
    "# 10\n",
    "# ,\n",
    "# 15\n",
    "# ,\n",
    "# 22\n",
    "# ,\n",
    "# 28\n",
    "# ,\n",
    "# 35\n",
    "# ]\n",
    "# [10,15,22,28,35]:\n",
    "\n",
    "# Mean = \n",
    "# 10\n",
    "# +\n",
    "# 15\n",
    "# +\n",
    "# 22\n",
    "# +\n",
    "# 28\n",
    "# +\n",
    "# 35\n",
    "# 5\n",
    "# =\n",
    "# 22\n",
    "# 5\n",
    "# 10+15+22+28+35\n",
    "# ​\n",
    "#  =22\n",
    "# Variance calculation:\n",
    "# Variance\n",
    "# =\n",
    "# (\n",
    "# 10\n",
    "# −\n",
    "# 22\n",
    "# )\n",
    "# 2\n",
    "# +\n",
    "# (\n",
    "# 15\n",
    "# −\n",
    "# 22\n",
    "# )\n",
    "# 2\n",
    "# +\n",
    "# (\n",
    "# 22\n",
    "# −\n",
    "# 22\n",
    "# )\n",
    "# 2\n",
    "# +\n",
    "# (\n",
    "# 28\n",
    "# −\n",
    "# 22\n",
    "# )\n",
    "# 2\n",
    "# +\n",
    "# (\n",
    "# 35\n",
    "# −\n",
    "# 22\n",
    "# )\n",
    "# 2\n",
    "# 5\n",
    "# −\n",
    "# 1\n",
    "# =\n",
    "# 144\n",
    "# +\n",
    "# 49\n",
    "# +\n",
    "# 0\n",
    "# +\n",
    "# 36\n",
    "# +\n",
    "# 169\n",
    "# 4\n",
    "# =\n",
    "# 398\n",
    "# 4\n",
    "# =\n",
    "# 99.5\n",
    "# Variance= \n",
    "# 5−1\n",
    "# (10−22) \n",
    "# 2\n",
    "#  +(15−22) \n",
    "# 2\n",
    "#  +(22−22) \n",
    "# 2\n",
    "#  +(28−22) \n",
    "# 2\n",
    "#  +(35−22) \n",
    "# 2\n",
    " \n",
    "# ​\n",
    "#  = \n",
    "# 4\n",
    "# 144+49+0+36+169\n",
    "# ​\n",
    "#  = \n",
    "# 4\n",
    "# 398\n",
    "# ​\n",
    "#  =99.5\n",
    "# 3. Standard Deviation\n",
    "# Definition: Standard deviation is the square root of the variance and provides a measure of dispersion in the same units as the original data.\n",
    "# Interpretation: It tells us how much the values in the dataset typically deviate from the mean. A low standard deviation indicates that the data points are close to the mean, while a high standard deviation indicates that the data points are spread out.\n",
    "# Formula:\n",
    "\n",
    "# Standard Deviation (s)\n",
    "# =\n",
    "# Variance\n",
    "# =\n",
    "# ∑\n",
    "# 𝑖\n",
    "# =\n",
    "# 1\n",
    "# 𝑁\n",
    "# (\n",
    "# 𝑥\n",
    "# 𝑖\n",
    "# −\n",
    "# 𝑥\n",
    "# ˉ\n",
    "# )\n",
    "# 2\n",
    "# 𝑁\n",
    "# −\n",
    "# 1\n",
    "# Standard Deviation (s)= \n",
    "# Variance\n",
    "# ​\n",
    "#  = \n",
    "# N−1\n",
    "# ∑ \n",
    "# i=1\n",
    "# N\n",
    "# ​\n",
    "#  (x \n",
    "# i\n",
    "# ​\n",
    "#  − \n",
    "# x\n",
    "# ˉ\n",
    "#  ) \n",
    "# 2\n",
    " \n",
    "# ​\n",
    " \n",
    "# ​\n",
    " \n",
    "# Example: Continuing from the variance example:\n",
    "\n",
    "# Standard Deviation = \n",
    "# 99.5\n",
    "# ≈\n",
    "# 9.975\n",
    "# 99.5\n",
    "# ​\n",
    "#  ≈9.975\n",
    "# Example in Context:\n",
    "# Consider two datasets representing the scores of two groups of students in a test:\n",
    "\n",
    "# Group A: \n",
    "# [\n",
    "# 50\n",
    "# ,\n",
    "# 55\n",
    "# ,\n",
    "# 60\n",
    "# ,\n",
    "# 65\n",
    "# ,\n",
    "# 70\n",
    "# ]\n",
    "# [50,55,60,65,70]\n",
    "# Group B: \n",
    "# [\n",
    "# 40\n",
    "# ,\n",
    "# 50\n",
    "# ,\n",
    "# 60\n",
    "# ,\n",
    "# 70\n",
    "# ,\n",
    "# 80\n",
    "# ]\n",
    "# [40,50,60,70,80]\n",
    "# Both groups have the same mean score of 60, but their spreads are different.\n",
    "\n",
    "# Range:\n",
    "\n",
    "# Group A: \n",
    "# 70\n",
    "# −\n",
    "# 50\n",
    "# =\n",
    "# 20\n",
    "# 70−50=20\n",
    "# Group B: \n",
    "# 80\n",
    "# −\n",
    "# 40\n",
    "# =\n",
    "# 40\n",
    "# 80−40=40\n",
    "# Interpretation: Group B has a wider range, indicating more variability in scores.\n",
    "# Variance:\n",
    "\n",
    "# Group A: Variance = 62.5\n",
    "# Group B: Variance = 200\n",
    "# Interpretation: Group B has a higher variance, showing that its scores are more spread out around the mean.\n",
    "# Standard Deviation:\n",
    "\n",
    "# Group A: Standard Deviation ≈ 7.91\n",
    "# Group B: Standard Deviation ≈ 14.14\n",
    "# Interpretation: Group B has a higher standard deviation, confirming that its scores deviate more from the mean compared to Group A.\n"
   ]
  },
  {
   "cell_type": "markdown",
   "id": "f05b7a53",
   "metadata": {},
   "source": [
    "# Ans6"
   ]
  },
  {
   "cell_type": "markdown",
   "id": "c6f4706d",
   "metadata": {},
   "source": [
    "# A Venn diagram is a graphical representation used to show the relationships between different sets or groups of items. It consists of overlapping circles, where each circle represents a set."
   ]
  },
  {
   "cell_type": "markdown",
   "id": "3ee1fe55",
   "metadata": {},
   "source": [
    "# Ans7"
   ]
  },
  {
   "cell_type": "markdown",
   "id": "34402248",
   "metadata": {},
   "source": [
    "# (i)"
   ]
  },
  {
   "cell_type": "markdown",
   "id": "f9ba003e",
   "metadata": {},
   "source": [
    "# (2,6)"
   ]
  },
  {
   "cell_type": "markdown",
   "id": "75a8fe64",
   "metadata": {},
   "source": [
    "# (ii)"
   ]
  },
  {
   "cell_type": "markdown",
   "id": "22612712",
   "metadata": {},
   "source": [
    "# (0,2,3,4,5,6,7,8,10)"
   ]
  },
  {
   "cell_type": "markdown",
   "id": "6864fe14",
   "metadata": {},
   "source": [
    "# Ans8"
   ]
  },
  {
   "cell_type": "markdown",
   "id": "772b850f",
   "metadata": {},
   "source": [
    "# Skewness refers to the asymmetry in the distribution of data values. It indicates whether the data points in a dataset are symmetrically distributed around the mean or if they tend to have a long tail on one side."
   ]
  },
  {
   "cell_type": "markdown",
   "id": "d30f7c50",
   "metadata": {},
   "source": [
    "# Ans9"
   ]
  },
  {
   "cell_type": "markdown",
   "id": "647b027e",
   "metadata": {},
   "source": [
    "# Mean will be greater than median "
   ]
  },
  {
   "cell_type": "markdown",
   "id": "31409017",
   "metadata": {},
   "source": [
    "# Ans10"
   ]
  },
  {
   "cell_type": "markdown",
   "id": "f9e07674",
   "metadata": {},
   "source": [
    "# #Covariance\n",
    "# Covariance measures the direction of the linear relationship between two variables. It indicates whether the variables tend to increase or decrease together."
   ]
  },
  {
   "cell_type": "markdown",
   "id": "c39fc915",
   "metadata": {},
   "source": [
    "# #Correlation\n",
    "# Correlation measures both the strength and direction of the linear relationship between two variables. It is a standardized form of covariance."
   ]
  },
  {
   "cell_type": "code",
   "execution_count": null,
   "id": "48e68ac5",
   "metadata": {},
   "outputs": [],
   "source": []
  }
 ],
 "metadata": {
  "kernelspec": {
   "display_name": "Python 3 (ipykernel)",
   "language": "python",
   "name": "python3"
  },
  "language_info": {
   "codemirror_mode": {
    "name": "ipython",
    "version": 3
   },
   "file_extension": ".py",
   "mimetype": "text/x-python",
   "name": "python",
   "nbconvert_exporter": "python",
   "pygments_lexer": "ipython3",
   "version": "3.11.7"
  }
 },
 "nbformat": 4,
 "nbformat_minor": 5
}
